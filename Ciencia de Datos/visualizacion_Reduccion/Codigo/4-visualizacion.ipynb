{
 "cells": [
  {
   "cell_type": "markdown",
   "metadata": {
    "editable": true,
    "slideshow": {
     "slide_type": "slide"
    },
    "tags": []
   },
   "source": [
    "#### <img src=\"../figs/logocimat.png\" height=\"20%\" width=\"20%\"  align=\"center\"/>\n",
    "\n",
    "# <center> Ciencia de Datos<center>\n",
    "\n",
    "<center> Víctor Muñiz Sánchez <center>\n",
    "<center> Maestría en Cómputo Estadístico <center>"
   ]
  },
  {
   "cell_type": "markdown",
   "metadata": {
    "slideshow": {
     "slide_type": "slide"
    }
   },
   "source": [
    "# Análisis de Componentes Principales (PCA)\n",
    "\n",
    "## PCA como un método de reducción de dimensión"
   ]
  },
  {
   "cell_type": "markdown",
   "metadata": {
    "slideshow": {
     "slide_type": "slide"
    }
   },
   "source": [
    "### Ejemplo 1: Veamos una versión simplificada de los dígitos MNIST"
   ]
  },
  {
   "cell_type": "code",
   "execution_count": null,
   "metadata": {
    "editable": true,
    "slideshow": {
     "slide_type": "subslide"
    },
    "tags": []
   },
   "outputs": [],
   "source": [
    "import numpy as np\n",
    "import matplotlib.pylab as plt \n",
    "from sklearn.datasets import load_digits \n",
    "from sklearn.preprocessing import StandardScaler\n",
    "from sklearn.decomposition import PCA\n",
    "from sklearn.pipeline import Pipeline\n",
    "import os\n",
    "\n",
    "#os.chdir('/home/victor/cursos/ciencia_de_datos_general/')\n",
    "%matplotlib inline\n"
   ]
  },
  {
   "cell_type": "code",
   "execution_count": null,
   "metadata": {
    "editable": true,
    "slideshow": {
     "slide_type": "subslide"
    },
    "tags": []
   },
   "outputs": [],
   "source": [
    "digits = load_digits()\n",
    "print('dimensiones:',digits.data.shape)\n",
    "j = 1\n",
    "#np.random.seed(1)\n",
    "fig = plt.figure(figsize=(1,1)) \n",
    "fig.subplots_adjust(left=0, right=1, bottom=0, top=1, hspace=0.05, wspace=0.05) \n",
    "for i in np.random.choice(digits.data.shape[0], 25):\n",
    "    plt.subplot(5,5,j), plt.imshow(np.reshape(digits.data[i,:], (8,8)), cmap='binary'), plt.axis('off')\n",
    "    j += 1\n",
    "plt.show()"
   ]
  },
  {
   "cell_type": "markdown",
   "metadata": {
    "slideshow": {
     "slide_type": "subslide"
    }
   },
   "source": [
    "#### PCA"
   ]
  },
  {
   "cell_type": "code",
   "execution_count": null,
   "metadata": {
    "editable": true,
    "slideshow": {
     "slide_type": "subslide"
    },
    "tags": []
   },
   "outputs": [],
   "source": [
    "ncomp=2\n",
    "pca_digits=PCA(ncomp)\n",
    "digits.data_proj = pca_digits.fit_transform(digits.data) \n",
    "plt.figure(figsize=(10,10))\n",
    "plt.scatter(digits.data_proj[:, 0], digits.data_proj[:, 1], lw=0.25, c=digits.target, edgecolor='k',  s=100, cmap=plt.colormaps.get_cmap('cubehelix'))\n",
    "plt.xlabel('PC1', size=20), plt.ylabel('PC2', size=20), plt.title('2D Projection of handwritten digits with PCA', size=25)\n",
    "plt.colorbar(ticks=range(10), label='digit value')\n",
    "plt.clim(-0.5, 9.5)\n",
    "print('Varianza explicada con %d PC: %.3f'%(ncomp,np.sum(pca_digits.explained_variance_ratio_)))"
   ]
  },
  {
   "cell_type": "markdown",
   "metadata": {
    "slideshow": {
     "slide_type": "slide"
    }
   },
   "source": [
    "### Ejemplo 2: Eigenfaces"
   ]
  },
  {
   "cell_type": "code",
   "execution_count": null,
   "metadata": {
    "editable": true,
    "slideshow": {
     "slide_type": "subslide"
    },
    "tags": []
   },
   "outputs": [],
   "source": [
    "from sklearn.datasets import fetch_olivetti_faces \n",
    "faces = fetch_olivetti_faces().data\n",
    "print('dimensiones:',faces.shape)\n",
    "\n",
    "fig = plt.figure(figsize=(10,10)) \n",
    "fig.subplots_adjust(left=0, right=1, bottom=0, top=1, hspace=0.05, wspace=0.05) \n",
    "# plot 25 random faces\n",
    "j = 1\n",
    "np.random.seed(0)\n",
    "for i in np.random.choice(range(faces.shape[0]), 25): \n",
    "    ax = fig.add_subplot(5, 5, j, xticks=[], yticks=[]) \n",
    "    ax.imshow(np.reshape(faces[i,:],(64,64)), cmap=plt.cm.gray, interpolation='nearest') \n",
    "    j += 1\n",
    "plt.show()"
   ]
  },
  {
   "cell_type": "markdown",
   "metadata": {
    "slideshow": {
     "slide_type": "subslide"
    }
   },
   "source": [
    "#### Usaremos un conjunto de entrenamiento para obtener los componentes principales"
   ]
  },
  {
   "cell_type": "code",
   "execution_count": null,
   "metadata": {
    "editable": true,
    "slideshow": {
     "slide_type": "fragment"
    },
    "tags": []
   },
   "outputs": [],
   "source": [
    "# separar conjunto de entrenamiento y prueba\n",
    "# tomo la ultima imagen de cada sujeto como dato de prueba\n",
    "te_ind = np.array([i for i in range(1,410) if (i % 10 == 0)]) -1\n",
    "tr_ind = np.array([i for i in range(1,400) if (i % 10 != 0)]) -1\n",
    "\n",
    "training_faces, test_faces = faces[tr_ind,:], faces[te_ind,:]\n",
    "training_faces.shape"
   ]
  },
  {
   "cell_type": "code",
   "execution_count": null,
   "metadata": {
    "editable": true,
    "slideshow": {
     "slide_type": "subslide"
    },
    "tags": []
   },
   "outputs": [],
   "source": [
    "# guardo las imagenes como png desde arreglos numpy\n",
    "for i in range(training_faces.shape[0]):\n",
    "    plt.imsave('../data/faces/faces_64/train/img'+str(tr_ind[i]+1)+'.png',\n",
    "               np.reshape(training_faces[i,:],(64,64)),cmap='gray')\n",
    "\n",
    "for i in range(test_faces.shape[0]):\n",
    "    plt.imsave('../data/faces/faces_64/test/img'+str(te_ind[i]+1)+'.png',\n",
    "               np.reshape(test_faces[i,:],(64,64)),cmap='gray')"
   ]
  },
  {
   "cell_type": "markdown",
   "metadata": {
    "slideshow": {
     "slide_type": "subslide"
    }
   },
   "source": [
    "#### Rostros centrados y su varianza\n",
    "¿Qué pasa si no se estandarizan?"
   ]
  },
  {
   "cell_type": "code",
   "execution_count": null,
   "metadata": {
    "editable": true,
    "slideshow": {
     "slide_type": "subslide"
    },
    "tags": []
   },
   "outputs": [],
   "source": [
    "scaler = StandardScaler(with_mean=True,with_std=True)\n",
    "faces_scale = scaler.fit_transform(training_faces)\n",
    "mean_face = np.reshape(scaler.mean_, (64,64))\n",
    "sd_face = np.reshape(np.sqrt(scaler.var_), (64,64))\n",
    "\n",
    "plt.figure(figsize=(10,5))\n",
    "plt.subplot(121), plt.imshow(mean_face, cmap=plt.cm.gray), plt.axis('off'), plt.title('Mean face')\n",
    "plt.subplot(122), plt.imshow(sd_face, cmap=plt.cm.gray), plt.axis('off'), plt.title('SD face')\n",
    "plt.show()\n",
    "faces_scale.shape"
   ]
  },
  {
   "cell_type": "markdown",
   "metadata": {
    "slideshow": {
     "slide_type": "subslide"
    }
   },
   "source": [
    "#### Hacemos PCA y vemos sus componentes principales. \n",
    "¿Cuántos componentes usar?"
   ]
  },
  {
   "cell_type": "code",
   "execution_count": null,
   "metadata": {
    "editable": true,
    "slideshow": {
     "slide_type": "subslide"
    },
    "tags": []
   },
   "outputs": [],
   "source": [
    "n_comp = 50 # numero de componentes\n",
    "faces_pca = PCA(n_comp)\n",
    "faces_proj = faces_pca.fit_transform(faces_scale) "
   ]
  },
  {
   "cell_type": "code",
   "execution_count": null,
   "metadata": {
    "editable": true,
    "slideshow": {
     "slide_type": "subslide"
    },
    "tags": []
   },
   "outputs": [],
   "source": [
    "## varianza explicada\n",
    "plt.figure(figsize=(10, 8))\n",
    "plt.plot(np.cumsum(faces_pca.explained_variance_ratio_), linewidth=2)\n",
    "plt.grid(), plt.axis('tight'), plt.xlabel('n_components'), plt.ylabel('Varianza acumulada')\n",
    "plt.show()"
   ]
  },
  {
   "cell_type": "code",
   "execution_count": null,
   "metadata": {
    "editable": true,
    "slideshow": {
     "slide_type": "subslide"
    },
    "tags": []
   },
   "outputs": [],
   "source": [
    "fig = plt.figure(figsize=(15,5)) \n",
    "fig.subplots_adjust(left=0, right=1, bottom=0, top=1.3, hspace=0.05, wspace=0.05) \n",
    "# Graficamos los primeros 10 componentes\n",
    "for i in range(10): \n",
    "    ax = fig.add_subplot(2, 5, i+1, xticks=[], yticks=[], title = 'PC '+str(i+1))\n",
    "    ax.imshow(np.reshape(faces_pca.components_[i,:], (64,64)), cmap=plt.cm.gray, interpolation='nearest')"
   ]
  },
  {
   "cell_type": "markdown",
   "metadata": {
    "slideshow": {
     "slide_type": "subslide"
    }
   },
   "source": [
    "#### Visualización de los primeros dos eigenfaces. \n",
    "Usamos una visualización interactiva con Bokeh. Asegúrate de tener instalado los componentes del módulo"
   ]
  },
  {
   "cell_type": "code",
   "execution_count": null,
   "metadata": {
    "editable": true,
    "slideshow": {
     "slide_type": "subslide"
    },
    "tags": []
   },
   "outputs": [],
   "source": [
    "from bokeh.plotting import figure, output_file, show, ColumnDataSource\n",
    "from bokeh.models import HoverTool\n",
    "#from bokeh.palettes import brewer, Viridis256\n",
    "import re\n",
    "\n",
    "# para ordenar los archivos según su numeración...\n",
    "def sorted_alphanumeric(data):\n",
    "    convert = lambda text: int(text) if text.isdigit() else text.lower()\n",
    "    alphanum_key = lambda key: [ convert(c) for c in re.split('([0-9]+)', key) ] \n",
    "    return sorted(data, key=alphanum_key)\n",
    "\n",
    "dir_tr = '../data/faces/faces_64/train/'\n",
    "sorted_files = sorted_alphanumeric(os.listdir(dir_tr))\n",
    "name_imgs_tr = [os.path.join(dir_tr,f) for f in sorted_files]"
   ]
  },
  {
   "cell_type": "code",
   "execution_count": null,
   "metadata": {
    "editable": true,
    "slideshow": {
     "slide_type": "subslide"
    },
    "tags": []
   },
   "outputs": [],
   "source": [
    "import colorcet as cc\n",
    "import matplotlib.colors as colors\n",
    "from colorcet.plotting import swatch, swatches, candy_buttons\n",
    "\n",
    "# cc.glasbey_bw es un mapa de colores para datos categóricos... \n",
    "# ver https://colorcet.holoviz.org/user_guide/Categorical.html\n",
    "lab = np.concatenate([np.repeat(i,9) for i in range(1,41)]) #hay 9 fotos de cada sujeto en entrenamiento\n",
    "color_map = [colors.rgb2hex(cc.glasbey_bw[i]) for i in lab-1]\n",
    "\n",
    "# diccionario con los datos para la grafica de Bokeh\n",
    "pc_source = dict(x=faces_proj[:,1], y=faces_proj[:,2], \n",
    "                 label=lab,\n",
    "                 color=color_map,\n",
    "                 desc=['sujeto: '+str(tr_ind[i]+1) for i in range(faces_proj.shape[0])],\n",
    "                 imgs=name_imgs_tr)"
   ]
  },
  {
   "cell_type": "code",
   "execution_count": null,
   "metadata": {
    "editable": true,
    "slideshow": {
     "slide_type": "subslide"
    },
    "tags": []
   },
   "outputs": [],
   "source": [
    "output_file(\"eigenfaces.html\")\n",
    "\n",
    "source = ColumnDataSource(data = pc_source)\n",
    "\n",
    "hover = HoverTool(\n",
    "        tooltips=\"\"\"\n",
    "        <div>\n",
    "            <div>\n",
    "                <img\n",
    "                    src=\"@imgs\" height=\"100\" alt=\"@imgs\" width=\"100\"\n",
    "                    style=\"float: left; margin: 0px 15px 15px 0px;\"\n",
    "                    border=\"2\"\n",
    "                ></img>\n",
    "            </div>\n",
    "            <div>\n",
    "                <span style=\"font-size: 17px; font-weight: bold;\">@desc</span>\n",
    "                <span style=\"font-size: 15px; color: #966;\">[$index]</span>\n",
    "            </div>\n",
    "            <div>\n",
    "                <span style=\"font-size: 15px;\">Location</span>\n",
    "                <span style=\"font-size: 10px; color: #696;\">($x, $y)</span>\n",
    "            </div>\n",
    "        </div>\n",
    "        \"\"\"\n",
    "    )\n",
    "\n",
    "p = figure(width=1400, height=800, tools=[hover], title=\"Eigenfaces\",\n",
    "          x_axis_label=\"PC 1\",y_axis_label=\"PC 2\")\n",
    "p.circle('x', 'y', size=5,  color='color', source=source)\n",
    "show(p)"
   ]
  },
  {
   "cell_type": "markdown",
   "metadata": {
    "slideshow": {
     "slide_type": "subslide"
    }
   },
   "source": [
    "#### Proyectamos los datos de prueba, y vemos su relación con los de entrenamiento"
   ]
  },
  {
   "cell_type": "code",
   "execution_count": null,
   "metadata": {
    "editable": true,
    "slideshow": {
     "slide_type": "fragment"
    },
    "tags": []
   },
   "outputs": [],
   "source": [
    "# proyectar datos de prueba\n",
    "faces_scale_te = scaler.transform(test_faces)\n",
    "faces_proj_te = faces_pca.transform(faces_scale_te) "
   ]
  },
  {
   "cell_type": "code",
   "execution_count": null,
   "metadata": {
    "slideshow": {
     "slide_type": "subslide"
    }
   },
   "outputs": [],
   "source": [
    "dir_te = '../data/faces/faces_64/test/'\n",
    "sorted_files = sorted_alphanumeric(os.listdir(dir_te))\n",
    "name_imgs_te = [os.path.join(dir_te,f) for f in sorted_files]\n",
    "\n",
    "lab_te = np.array(range(1,41))\n",
    "color_map_te = [colors.rgb2hex(cc.glasbey_bw[i]) for i in lab_te-1]\n",
    "\n",
    "pc_source_te = dict(x=faces_proj_te[:,1], y=faces_proj_te[:,2],\n",
    "                    label=lab_te, color=color_map_te,                    \n",
    "                    desc=['sujeto test'+str(te_ind[i]+1) for i in range(1,faces_proj_te.shape[0])],\n",
    "                    imgs=name_imgs_te)"
   ]
  },
  {
   "cell_type": "code",
   "execution_count": null,
   "metadata": {
    "slideshow": {
     "slide_type": "subslide"
    }
   },
   "outputs": [],
   "source": [
    "output_file(\"eigenfaces.html\")\n",
    "\n",
    "source = ColumnDataSource(data = pc_source)\n",
    "source_te = ColumnDataSource(data = pc_source_te)\n",
    "\n",
    "hover = HoverTool(\n",
    "        tooltips=\"\"\"\n",
    "        <div>\n",
    "            <div>\n",
    "                <img\n",
    "                    src=\"@imgs\" height=\"100\" alt=\"@imgs\" width=\"100\"\n",
    "                    style=\"float: left; margin: 0px 15px 15px 0px;\"\n",
    "                    border=\"2\"\n",
    "                ></img>\n",
    "            </div>\n",
    "            <div>\n",
    "                <span style=\"font-size: 17px; font-weight: bold;\">@desc</span>\n",
    "                <span style=\"font-size: 15px; color: #966;\">[$index]</span>\n",
    "            </div>\n",
    "            <div>\n",
    "                <span style=\"font-size: 15px;\">Location</span>\n",
    "                <span style=\"font-size: 10px; color: #696;\">($x, $y)</span>\n",
    "            </div>\n",
    "        </div>\n",
    "        \"\"\"\n",
    "    )\n",
    "\n",
    "p = figure(width=1400, height=800, tools=[hover], title=\"Eigenfaces\",\n",
    "          x_axis_label=\"PC 1\",y_axis_label=\"PC 2\")\n",
    "p.circle('x', 'y', size=5,  color='color', source=source)\n",
    "p.circle('x', 'y', size=15,  color='red', source=source_te)\n",
    "show(p)"
   ]
  }
 ],
 "metadata": {
  "celltoolbar": "Slideshow",
  "kernelspec": {
   "display_name": "Python 3 (ipykernel)",
   "language": "python",
   "name": "python3"
  },
  "language_info": {
   "codemirror_mode": {
    "name": "ipython",
    "version": 3
   },
   "file_extension": ".py",
   "mimetype": "text/x-python",
   "name": "python",
   "nbconvert_exporter": "python",
   "pygments_lexer": "ipython3",
   "version": "3.11.7"
  },
  "latex_envs": {
   "LaTeX_envs_menu_present": true,
   "autoclose": true,
   "autocomplete": true,
   "bibliofile": "biblio.bib",
   "cite_by": "apalike",
   "current_citInitial": 1,
   "eqLabelWithNumbers": true,
   "eqNumInitial": 1,
   "hotkeys": {
    "equation": "Ctrl-E",
    "itemize": "Ctrl-I"
   },
   "labels_anchors": false,
   "latex_user_defs": false,
   "report_style_numbering": false,
   "user_envs_cfg": false
  },
  "toc": {
   "base_numbering": 1,
   "nav_menu": {},
   "number_sections": false,
   "sideBar": true,
   "skip_h1_title": false,
   "title_cell": "Table of Contents",
   "title_sidebar": "Contents",
   "toc_cell": false,
   "toc_position": {},
   "toc_section_display": true,
   "toc_window_display": false
  }
 },
 "nbformat": 4,
 "nbformat_minor": 4
}
