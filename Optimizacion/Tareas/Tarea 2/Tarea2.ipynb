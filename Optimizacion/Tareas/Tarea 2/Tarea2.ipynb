{
 "cells": [
  {
   "cell_type": "markdown",
   "metadata": {},
   "source": [
    "## Realizar el Descenso de Gradiente en Python\n",
    "\n",
    "* Se utilizarán funciones $f(\\textrm{X})$ definidas.  \n",
    "* Se calculará el gradiente $\\nabla{f(X_k)}$ de forma numérica.  \n",
    "* Se actualizará $\\alpha_k$ en cada iteración."
   ]
  },
  {
   "cell_type": "code",
   "execution_count": 47,
   "metadata": {},
   "outputs": [],
   "source": [
    "import numpy as np\n",
    "from time import perf_counter"
   ]
  },
  {
   "cell_type": "markdown",
   "metadata": {},
   "source": [
    "#### Definimos las funciones de prueba"
   ]
  },
  {
   "cell_type": "code",
   "execution_count": 2,
   "metadata": {},
   "outputs": [],
   "source": [
    "def Esfera(x):\n",
    "    \"\"\"\n",
    "    f(x) = \\\\sum x_i^2\n",
    "    \"\"\"\n",
    "    \n",
    "    return np.sum(x**2)\n",
    "\n",
    "\n",
    "def Rosenbrock(x):\n",
    "    terminos = [\n",
    "        100 * (x[i + 1] - x[i] ** 2) ** 2 + (1 - x[i]) ** 2\n",
    "        for i in range(len(x) - 1)\n",
    "    ]\n",
    "    terminos = np.array(terminos)\n",
    "    return np.sum(terminos)\n",
    "\n",
    "\n",
    "def Beale(x):\n",
    "    assert len(x) == 2, f\"La función Beale es de dos variables, se introdujeron {len(x)}.\"\n",
    "    (x1, x2) = x\n",
    "    return (\n",
    "        (1.5 - x1 + x1 * x2) ** 2\n",
    "        + (2.25 - x1 + x1 * x2**2) ** 2\n",
    "        + (2.625 - x1 + x1 * x2**3) ** 2\n",
    "    )"
   ]
  },
  {
   "cell_type": "markdown",
   "metadata": {},
   "source": [
    "#### Cálculo numérico del gradiente"
   ]
  },
  {
   "cell_type": "code",
   "execution_count": 3,
   "metadata": {},
   "outputs": [],
   "source": [
    "def grad_f(x, f, h):\n",
    "    \"\"\"\n",
    "    Input:\n",
    "        f: Función.\n",
    "        x: Punto a evaluar.\n",
    "        h: Espaciamiento para el cálculo del gradiente.\n",
    "        \n",
    "    Output:\n",
    "        grad: Valor del gradiente.\n",
    "    \"\"\"\n",
    "    \n",
    "    # Inicializa el gradiente\n",
    "    grad = np.zeros(len(x))\n",
    "\n",
    "    # Itera sobre cada componente\n",
    "    for i in range(len(x)):\n",
    "        # Copia de x\n",
    "        x_i = np.copy(x)\n",
    "\n",
    "        # Se suma el espaciamiento solo en la i-esima componente\n",
    "        x_i[i] = x_i[i] + h\n",
    "        \n",
    "        # Se calcula la i-esima componente del gradiente\n",
    "        grad[i] = (f(x_i) - f(x)) / h\n",
    "    return grad"
   ]
  },
  {
   "cell_type": "markdown",
   "metadata": {},
   "source": [
    "#### Actualizar alfa en cada iteración"
   ]
  },
  {
   "cell_type": "code",
   "execution_count": 57,
   "metadata": {},
   "outputs": [],
   "source": [
    "def actualiza_alfa(f, gradiente, x, p, alfa, h, rho = 0.5, c_1 = 10e-4, max_iter = 50):\n",
    "    for i in range(max_iter):\n",
    "        if f(x+p*alfa) <= f(x) + c_1 * alfa * np.dot(p, gradiente):\n",
    "            return alfa\n",
    "        alfa = alfa*rho\n",
    "                \n",
    "    print(f\"No se cumplió la condición con {max_iter} iteraciones.\")\n",
    "    return alfa"
   ]
  },
  {
   "cell_type": "markdown",
   "metadata": {},
   "source": [
    "##### Descenso del gradiente con actualización de $\\alpha$"
   ]
  },
  {
   "cell_type": "code",
   "execution_count": 58,
   "metadata": {},
   "outputs": [],
   "source": [
    "def descenso_gradiente2(f, x, alfa, max_iter, epsilon, h):\n",
    "    \"\"\"\n",
    "    Input:\n",
    "        f: Función objetivo.\n",
    "        x: Punto inicial x_0.\n",
    "        alfa: Learning rate.\n",
    "        max_iter: Número máximo de iteraciones.\n",
    "        epsilon: Criterio de convergencia.\n",
    "        h: Espaciamiento para el cálculo del gradiente.\n",
    "        \n",
    "    Output:\n",
    "        x like: Punto solución aproximada.\n",
    "    \"\"\"\n",
    "    \n",
    "    \n",
    "    # Inicializacion\n",
    "    x_k = np.copy(x)\n",
    "    convergencia = False\n",
    "\n",
    "    for i in range(max_iter):\n",
    "        # Actualiza la solucion\n",
    "        gradiente = grad_f(x_k, f, h)\n",
    "        p_k = -gradiente\n",
    "        alfa = actualiza_alfa(f, gradiente, x_k, p_k, alfa, h)\n",
    "        x_k = x_k + alfa * p_k \n",
    "        \n",
    "        # Evalua la convergencia\n",
    "        convergencia = max(abs(p_k)) < epsilon\n",
    "        if convergencia:\n",
    "            print(f\"La función {f.__name__} converge en la iteracion: {i}\")\n",
    "            break\n",
    "\n",
    "    if not convergencia:\n",
    "        print(f\"No se cumplio la convergencia en {max_iter} iteraciones.\")\n",
    "\n",
    "    return x_k"
   ]
  },
  {
   "cell_type": "markdown",
   "metadata": {},
   "source": [
    "#### Descenso del gradiente sin actualizar $\\alpha$"
   ]
  },
  {
   "cell_type": "code",
   "execution_count": 59,
   "metadata": {},
   "outputs": [],
   "source": [
    "def descenso_gradiente(f, x, alfa, max_iter, epsilon, h):\n",
    "    \"\"\"\n",
    "    Input:\n",
    "        f: Función objetivo.\n",
    "        x: Punto inicial x_0.\n",
    "        alfa: Learning rate.\n",
    "        max_iter: Número máximo de iteraciones.\n",
    "        epsilon: Criterio de convergencia.\n",
    "        h: Espaciamiento para el cálculo del gradiente.\n",
    "        \n",
    "    Output:\n",
    "        x like: Punto solución aproximada.\n",
    "    \"\"\"\n",
    "    \n",
    "    \n",
    "    # Inicializacion\n",
    "    x_k = np.copy(x)\n",
    "    convergencia = False\n",
    "\n",
    "    for i in range(max_iter):\n",
    "        # Actualiza la solucion\n",
    "        p_k = -grad_f(x_k, f, h)\n",
    "        x_k = x_k + alfa * p_k \n",
    "        \n",
    "        # Evalua la convergencia\n",
    "        convergencia = max(abs(p_k)) < epsilon\n",
    "        if convergencia:\n",
    "            print(f\"La función {f.__name__} converge en la iteracion: {i}\")\n",
    "            break\n",
    "\n",
    "    if not convergencia:\n",
    "        print(f\"No se cumplio la convergencia en {max_iter} iteraciones.\")\n",
    "\n",
    "    return x_k"
   ]
  },
  {
   "cell_type": "markdown",
   "metadata": {},
   "source": [
    "#### Probando la función Esfera."
   ]
  },
  {
   "cell_type": "code",
   "execution_count": 60,
   "metadata": {},
   "outputs": [
    {
     "name": "stdout",
     "output_type": "stream",
     "text": [
      "La función Esfera converge en la iteracion: 45\n",
      "Tiempo de ejecución sin actualizar alfa: 28.69300 ms\n",
      "Magnitud del vector error: 0.0006868986359257107\n",
      "La función Esfera converge en la iteracion: 1\n",
      "Tiempo de ejecución actualizando alfa: 10.45500 ms\n",
      "Magnitud del vector error: 9.999421308748424e-06\n"
     ]
    }
   ],
   "source": [
    "n = 4\n",
    "x = np.array(n*[10], dtype=float)\n",
    "alfa_1 = 0.1\n",
    "max_iter = 15_000\n",
    "epsilon = 10e-4\n",
    "h = 10e-6\n",
    "alfa_2 = 1\n",
    "\n",
    "# Comparación con resultado real\n",
    "solucion = np.array(n*[0], dtype=float)\n",
    "\n",
    "inicio = perf_counter()\n",
    "x_1 = descenso_gradiente(Esfera, x, alfa_1, max_iter, epsilon, h)\n",
    "fin = perf_counter()\n",
    "\n",
    "print(f\"Tiempo de ejecución sin actualizar alfa: {(fin-inicio) * 10e3:.5f} ms\")\n",
    "print(f\"Magnitud del vector error: {np.linalg.norm(x_1 - solucion)}\")\n",
    "\n",
    "\n",
    "inicio = perf_counter()\n",
    "x_2 = descenso_gradiente2(Esfera, x, alfa_2, max_iter, epsilon, h)\n",
    "fin = perf_counter()\n",
    "\n",
    "print(f\"Tiempo de ejecución actualizando alfa: {(fin-inicio) * 10e3:.5f} ms\")\n",
    "print(f\"Magnitud del vector error: {np.linalg.norm(x_2 - solucion)}\")"
   ]
  },
  {
   "cell_type": "markdown",
   "metadata": {},
   "source": [
    "#### Probando la función Rosenbrock."
   ]
  },
  {
   "cell_type": "code",
   "execution_count": 61,
   "metadata": {},
   "outputs": [
    {
     "name": "stdout",
     "output_type": "stream",
     "text": [
      "La función Rosenbrock converge en la iteracion: 12143\n",
      "Tiempo de ejecución sin actualizar alfa: 7994.65500 ms\n",
      "Magnitud del vector error: 0.0068657639510175585\n",
      "La función Rosenbrock converge en la iteracion: 11462\n",
      "Tiempo de ejecución actualizando alfa: 9397.18700 ms\n",
      "Magnitud del vector error: 0.011487211883003577\n"
     ]
    }
   ],
   "source": [
    "n = 4\n",
    "x = np.array(4*[2], dtype=float)\n",
    "alfa_1 = 0.001\n",
    "max_iter = 15_000\n",
    "epsilon = 10e-4\n",
    "h = 10e-6\n",
    "alfa_2 = 1\n",
    "\n",
    "# Comparación con resultado real\n",
    "solucion = np.array(n*[1], dtype=float)\n",
    "\n",
    "inicio = perf_counter()\n",
    "x_1 = descenso_gradiente(Rosenbrock, x, alfa_1, max_iter, epsilon, h)\n",
    "fin = perf_counter()\n",
    "\n",
    "print(f\"Tiempo de ejecución sin actualizar alfa: {(fin-inicio) * 10e3:.5f} ms\")\n",
    "print(f\"Magnitud del vector error: {np.linalg.norm(x_1 - solucion)}\")\n",
    "\n",
    "\n",
    "inicio = perf_counter()\n",
    "x_2 = descenso_gradiente2(Rosenbrock, x, alfa_2, max_iter, epsilon, h)\n",
    "fin = perf_counter()\n",
    "\n",
    "print(f\"Tiempo de ejecución actualizando alfa: {(fin-inicio) * 10e3:.5f} ms\")\n",
    "print(f\"Magnitud del vector error: {np.linalg.norm(x_2 - solucion)}\")"
   ]
  },
  {
   "cell_type": "markdown",
   "metadata": {},
   "source": [
    "#### Probando la función Beale"
   ]
  },
  {
   "cell_type": "code",
   "execution_count": 65,
   "metadata": {},
   "outputs": [
    {
     "name": "stdout",
     "output_type": "stream",
     "text": [
      "La función Beale converge en la iteracion: 7724\n",
      "Tiempo de ejecución sin actualizar alfa: 1278.45800 ms\n",
      "Magnitud del vector error: 0.003631774904621137\n",
      "La función Beale converge en la iteracion: 4056\n",
      "Tiempo de ejecución actualizando alfa: 861.41100 ms\n",
      "Magnitud del vector error: 0.0036269319042124444\n"
     ]
    }
   ],
   "source": [
    "x = np.array([2, 2], dtype=float)\n",
    "alfa_1 = 0.002\n",
    "max_iter = 15_000\n",
    "epsilon = 10e-4\n",
    "h = 10e-6\n",
    "alfa_2 = 1\n",
    "\n",
    "# Comparación con resultado real\n",
    "solucion = np.array([3, 0.5], dtype=float)\n",
    "\n",
    "inicio = perf_counter()\n",
    "x_1 = descenso_gradiente(Beale, x, alfa_1, max_iter, epsilon, h)\n",
    "fin = perf_counter()\n",
    "\n",
    "print(f\"Tiempo de ejecución sin actualizar alfa: {(fin-inicio) * 10e3:.5f} ms\")\n",
    "print(f\"Magnitud del vector error: {np.linalg.norm(x_1 - solucion)}\")\n",
    "\n",
    "\n",
    "inicio = perf_counter()\n",
    "x_2 = descenso_gradiente2(Beale, x, alfa_2, max_iter, epsilon, h)\n",
    "fin = perf_counter()\n",
    "\n",
    "print(f\"Tiempo de ejecución actualizando alfa: {(fin-inicio) * 10e3:.5f} ms\")\n",
    "print(f\"Magnitud del vector error: {np.linalg.norm(x_2 - solucion)}\")"
   ]
  }
 ],
 "metadata": {
  "kernelspec": {
   "display_name": "base",
   "language": "python",
   "name": "python3"
  },
  "language_info": {
   "codemirror_mode": {
    "name": "ipython",
    "version": 3
   },
   "file_extension": ".py",
   "mimetype": "text/x-python",
   "name": "python",
   "nbconvert_exporter": "python",
   "pygments_lexer": "ipython3",
   "version": "3.12.8"
  }
 },
 "nbformat": 4,
 "nbformat_minor": 2
}
