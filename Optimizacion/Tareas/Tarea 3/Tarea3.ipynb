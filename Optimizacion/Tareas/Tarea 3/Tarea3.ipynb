{
 "cells": [
  {
   "cell_type": "markdown",
   "metadata": {},
   "source": [
    "# Tarea 3 - Optimización\n",
    "### Método de Newton con Hessiano Modificado.\n",
    "#### Por: Gustavo Hernández Angeles\n"
   ]
  },
  {
   "cell_type": "markdown",
   "metadata": {},
   "source": [
    "### **Preparación**"
   ]
  },
  {
   "cell_type": "markdown",
   "metadata": {},
   "source": [
    "#### Funciones de prueba y módulos"
   ]
  },
  {
   "cell_type": "code",
   "execution_count": 28,
   "metadata": {},
   "outputs": [],
   "source": [
    "import numpy as np\n",
    "from time import perf_counter\n",
    "\n",
    "# Definimos las funciones de prueba.\n",
    "def Esfera(x):\n",
    "    \"\"\"\n",
    "    f(x) = \\\\sum x_i^2\n",
    "    \"\"\"\n",
    "    \n",
    "    return np.sum(x**2)\n",
    "\n",
    "\n",
    "def Rosenbrock(x):\n",
    "    terminos = [\n",
    "        100 * (x[i + 1] - x[i] ** 2) ** 2 + (1 - x[i]) ** 2\n",
    "        for i in range(len(x) - 1)\n",
    "    ]\n",
    "    terminos = np.array(terminos)\n",
    "    return np.sum(terminos)\n",
    "\n",
    "\n",
    "def Beale(x):\n",
    "    assert len(x) == 2, f\"La función Beale es de dos variables, se introdujeron {len(x)}.\"\n",
    "    (x1, x2) = x\n",
    "    return (\n",
    "        (1.5 - x1 + x1 * x2) ** 2\n",
    "        + (2.25 - x1 + x1 * x2**2) ** 2\n",
    "        + (2.625 - x1 + x1 * x2**3) ** 2\n",
    "    )"
   ]
  },
  {
   "cell_type": "markdown",
   "metadata": {},
   "source": [
    "#### Funciones para calcular Hessiano y Gradiente"
   ]
  },
  {
   "cell_type": "code",
   "execution_count": 29,
   "metadata": {},
   "outputs": [],
   "source": [
    "\n",
    "def hess_f(x, f, h=1e-5):\n",
    "    \"\"\"\n",
    "    Calcula la matriz Hessiana de f en el punto x usando diferencias finitas.\n",
    "    \n",
    "    Input:\n",
    "    f:  función escalar que recibe un vector x\n",
    "    x:  punto donde se evalúa el Hessiano (numpy array)\n",
    "    h:  paso pequeño para diferencias finitas\n",
    "\n",
    "    Output:\n",
    "    H:  matriz Hessiana (numpy array)\n",
    "    \"\"\"\n",
    "    n = len(x)\n",
    "    H = np.zeros((n, n))\n",
    "    I = np.eye(n)  # Matriz identidad para cambiar un elemento a la vez\n",
    "\n",
    "    for i in range(n):\n",
    "        for j in range(n):\n",
    "            x_ij = x + h * (I[i] + I[j])\n",
    "            x_i = x + h * I[i]\n",
    "            x_j = x + h * I[j]\n",
    "            \n",
    "            f_ij = f(x_ij)  # f(x + h_i + h_j)\n",
    "            f_i = f(x_i)  # f(x + h_i)\n",
    "            f_j = f(x_j)  # f(x + h_j)\n",
    "            f_0 = f(x)  # f(x)\n",
    "\n",
    "            H[i, j] = (f_ij - f_i - f_j + f_0) / (h**2)  # Segunda derivada cruzada\n",
    "\n",
    "    return 0.5*(H + H.T)\n",
    "\n",
    "def grad_f(x, f, h):\n",
    "    \"\"\"\n",
    "    Input:\n",
    "        f: Función.\n",
    "        x: Punto a evaluar (numpy array).\n",
    "        h: Espaciamiento para el cálculo del gradiente.\n",
    "        \n",
    "    Output:\n",
    "        grad: Valor del gradiente (numpy array).\n",
    "    \"\"\"\n",
    "    \n",
    "    # Inicializa el gradiente\n",
    "    grad = np.zeros(len(x))\n",
    "\n",
    "    # Itera sobre cada componente\n",
    "    for i in range(len(x)):\n",
    "        # Copia de x\n",
    "        x_i = np.copy(x)\n",
    "\n",
    "        # Se suma el espaciamiento solo en la i-esima componente\n",
    "        x_i[i] = x_i[i] + h\n",
    "        \n",
    "        # Se calcula la i-esima componente del gradiente\n",
    "        grad[i] = (f(x_i) - f(x)) / h\n",
    "    return grad"
   ]
  },
  {
   "cell_type": "markdown",
   "metadata": {},
   "source": [
    "#### Condicionar el hessiano"
   ]
  },
  {
   "cell_type": "code",
   "execution_count": 30,
   "metadata": {},
   "outputs": [],
   "source": [
    "def condicionar_hessiano(hessiano, w = 1e-6, lam = 1e-2, max_iter = 10):\n",
    "    \"\"\"\n",
    "    Asegura que el Hessiano esté bien condicionado\n",
    "    Input:\n",
    "        hessiano: Matriz Hessiana (numpy n x n)\n",
    "        w: Cota menor de min_e/max_e.\n",
    "    Output:\n",
    "        Hessiano ajustado (numpy n x n)\n",
    "    \"\"\"\n",
    "    \n",
    "    H = np.copy(hessiano)\n",
    "    n = len(H)\n",
    "    eigenvals = np.linalg.eigvals(H)\n",
    "    min_e = eigenvals.min()\n",
    "    max_e = eigenvals.max()\n",
    "\n",
    "    for i in range(max_iter):\n",
    "        if min_e / max_e >= w:\n",
    "            return H\n",
    "        H += lam*np.eye(n)\n",
    "        eigenvals = np.linalg.eigvals(H)\n",
    "        min_e = eigenvals.min()\n",
    "        max_e = eigenvals.max()\n",
    "    \n",
    "    return H"
   ]
  },
  {
   "cell_type": "markdown",
   "metadata": {},
   "source": [
    "#### Método de Newton con Hessiano Modificado"
   ]
  },
  {
   "cell_type": "code",
   "execution_count": 31,
   "metadata": {},
   "outputs": [],
   "source": [
    "def newton_hess_modificado(f, x, alfa, max_iter, epsilon, h):\n",
    "    \"\"\"\n",
    "    Input:\n",
    "        f: Función objetivo.\n",
    "        x: Punto inicial x_0.\n",
    "        alfa: Learning rate.\n",
    "        max_iter: Número máximo de iteraciones.\n",
    "        epsilon: Criterio de convergencia.\n",
    "        h: Espaciamiento para el cálculo del gradiente.\n",
    "        \n",
    "    Output:\n",
    "        x like: Punto solución aproximada.\n",
    "    \"\"\"\n",
    "    \n",
    "    x_k = np.copy(x)\n",
    "    convergencia = False\n",
    "    \n",
    "    for i in range(max_iter):\n",
    "        # Obtenemos p_k\n",
    "        hessiano = hess_f(x_k, f, h)\n",
    "        hessiano = condicionar_hessiano(hessiano)\n",
    "        grad = grad_f(x_k, f, h)\n",
    "        p_k = -np.linalg.inv(hessiano).dot(grad)\n",
    "        \n",
    "        # Actualizamos la solución\n",
    "        x_k = x_k + alfa * p_k \n",
    "        \n",
    "        # Evalua la convergencia\n",
    "        convergencia = max(abs(p_k)) < epsilon\n",
    "        if convergencia:\n",
    "            print(f\"La función {f.__name__} converge en la iteracion: {i}\")\n",
    "            break\n",
    "\n",
    "    if not convergencia:\n",
    "        print(f\"No se cumplio la convergencia en {max_iter} iteraciones.\")\n",
    "\n",
    "    return x_k"
   ]
  },
  {
   "cell_type": "markdown",
   "metadata": {},
   "source": [
    "### **Resultados**"
   ]
  },
  {
   "cell_type": "markdown",
   "metadata": {},
   "source": [
    "#### Función Esfera"
   ]
  },
  {
   "cell_type": "code",
   "execution_count": 32,
   "metadata": {},
   "outputs": [
    {
     "name": "stdout",
     "output_type": "stream",
     "text": [
      "La función Esfera converge en la iteracion: 2\n",
      "Tiempo de ejecución: 20.25100 ms\n",
      "Magnitud del vector error: 1.0000000000000003e-05\n",
      "Solución encontrada: [-5.e-06 -5.e-06 -5.e-06 -5.e-06]\n"
     ]
    }
   ],
   "source": [
    "n = 4\n",
    "x = np.array(n*[4], dtype=float)\n",
    "alfa = 1\n",
    "max_iter = 15_000\n",
    "epsilon = 10e-6\n",
    "h = 10e-6\n",
    "\n",
    "inicio = perf_counter()\n",
    "xsol = newton_hess_modificado(Esfera, x, alfa, max_iter, epsilon, h)\n",
    "final = perf_counter()\n",
    "\n",
    "# Comparación con resultado real\n",
    "solucion = np.array(n*[0], dtype=float)\n",
    "\n",
    "print(f\"Tiempo de ejecución: {(final-inicio) * 10e3:.5f} ms\")\n",
    "print(f\"Magnitud del vector error: {np.linalg.norm(xsol - solucion)}\")\n",
    "print(f\"Solución encontrada: {xsol}\")"
   ]
  },
  {
   "cell_type": "markdown",
   "metadata": {},
   "source": [
    "#### Función de Rosenbrock"
   ]
  },
  {
   "cell_type": "code",
   "execution_count": 33,
   "metadata": {},
   "outputs": [
    {
     "name": "stdout",
     "output_type": "stream",
     "text": [
      "La función Rosenbrock converge en la iteracion: 10\n",
      "Tiempo de ejecución: 105.91400 ms\n",
      "Magnitud del vector error: 0.009179254507642946\n",
      "Solución encontrada: [0.99899826 0.99800253 0.99601405 0.992039  ]\n"
     ]
    }
   ],
   "source": [
    "n = 4\n",
    "x = np.array(4*[2], dtype=float)\n",
    "alfa = 1\n",
    "max_iter = 15_000\n",
    "epsilon = 10e-6\n",
    "h = 10e-6\n",
    "\n",
    "inicio = perf_counter()\n",
    "xsol = newton_hess_modificado(Rosenbrock, x, alfa, max_iter, epsilon, h)\n",
    "final = perf_counter()\n",
    "\n",
    "\n",
    "# Comparación con resultado real\n",
    "solucion = np.array(n*[1], dtype=float)\n",
    "\n",
    "print(f\"Tiempo de ejecución: {(final-inicio) * 10e3:.5f} ms\")\n",
    "print(f\"Magnitud del vector error: {np.linalg.norm(xsol - solucion)}\")\n",
    "print(f\"Solución encontrada: {xsol}\")"
   ]
  },
  {
   "cell_type": "markdown",
   "metadata": {},
   "source": [
    "#### Función de Beale"
   ]
  },
  {
   "cell_type": "code",
   "execution_count": 34,
   "metadata": {},
   "outputs": [
    {
     "name": "stdout",
     "output_type": "stream",
     "text": [
      "La función Beale converge en la iteracion: 7\n",
      "Tiempo de ejecución: 46.76500 ms\n",
      "Magnitud del vector error: 3.041381241106071\n",
      "Solución encontrada: [2.62464136e-08 1.00000001e+00]\n"
     ]
    }
   ],
   "source": [
    "x = np.array([2,2], dtype=float)\n",
    "alfa = 1\n",
    "max_iter = 15_000\n",
    "epsilon = 10e-6\n",
    "h = 10e-6\n",
    "\n",
    "inicio = perf_counter()\n",
    "xsol = newton_hess_modificado(Beale, x, alfa, max_iter, epsilon, h)\n",
    "final = perf_counter()\n",
    "\n",
    "\n",
    "\n",
    "# Comparación con resultado real\n",
    "solucion = np.array([3, 0.5], dtype=float)\n",
    "\n",
    "print(f\"Tiempo de ejecución: {(final-inicio) * 10e3:.5f} ms\")\n",
    "print(f\"Magnitud del vector error: {np.linalg.norm(xsol - solucion)}\")\n",
    "print(f\"Solución encontrada: {xsol}\")"
   ]
  }
 ],
 "metadata": {
  "kernelspec": {
   "display_name": "base",
   "language": "python",
   "name": "python3"
  },
  "language_info": {
   "codemirror_mode": {
    "name": "ipython",
    "version": 3
   },
   "file_extension": ".py",
   "mimetype": "text/x-python",
   "name": "python",
   "nbconvert_exporter": "python",
   "pygments_lexer": "ipython3",
   "version": "3.12.8"
  }
 },
 "nbformat": 4,
 "nbformat_minor": 2
}
