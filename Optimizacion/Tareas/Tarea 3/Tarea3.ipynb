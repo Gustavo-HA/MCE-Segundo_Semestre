{
 "cells": [
  {
   "cell_type": "markdown",
   "metadata": {},
   "source": [
    "# Tarea 3 - Optimización\n",
    "### Método de Newton con Hessiano Modificado.\n",
    "#### Por: Gustavo Hernández Angeles\n"
   ]
  },
  {
   "cell_type": "markdown",
   "metadata": {},
   "source": [
    "### **Preparación**"
   ]
  },
  {
   "cell_type": "markdown",
   "metadata": {},
   "source": [
    "#### Funciones de prueba y módulos"
   ]
  },
  {
   "cell_type": "code",
   "execution_count": 20,
   "metadata": {},
   "outputs": [],
   "source": [
    "import numpy as np\n",
    "\n",
    "# Definimos las funciones de prueba.\n",
    "def Esfera(x):\n",
    "    \"\"\"\n",
    "    f(x) = \\\\sum x_i^2\n",
    "    \"\"\"\n",
    "    \n",
    "    return np.sum(x**2)\n",
    "\n",
    "\n",
    "def Rosenbrock(x):\n",
    "    terminos = [\n",
    "        100 * (x[i + 1] - x[i] ** 2) ** 2 + (1 - x[i]) ** 2\n",
    "        for i in range(len(x) - 1)\n",
    "    ]\n",
    "    terminos = np.array(terminos)\n",
    "    return np.sum(terminos)\n",
    "\n",
    "\n",
    "def Beale(x):\n",
    "    assert len(x) == 2, f\"La función Beale es de dos variables, se introdujeron {len(x)}.\"\n",
    "    (x1, x2) = x\n",
    "    return (\n",
    "        (1.5 - x1 + x1 * x2) ** 2\n",
    "        + (2.25 - x1 + x1 * x2**2) ** 2\n",
    "        + (2.625 - x1 + x1 * x2**3) ** 2\n",
    "    )"
   ]
  },
  {
   "cell_type": "markdown",
   "metadata": {},
   "source": [
    "#### Funciones para calcular Hessiano y Gradiente"
   ]
  },
  {
   "cell_type": "code",
   "execution_count": 21,
   "metadata": {},
   "outputs": [],
   "source": [
    "\n",
    "def hess_f(x, f, h=1e-5):\n",
    "    \"\"\"\n",
    "    Calcula la matriz Hessiana de f en el punto x usando diferencias finitas centrales.\n",
    "    \n",
    "    Input:\n",
    "    f:  función escalar que recibe un vector x\n",
    "    x:  punto donde se evalúa el Hessiano (numpy array)\n",
    "    h:  paso pequeño para diferencias finitas\n",
    "\n",
    "    Output:\n",
    "    H:  matriz Hessiana (numpy array)\n",
    "    \"\"\"\n",
    "    n = len(x)\n",
    "    H = np.zeros((n, n))\n",
    "    I = np.eye(n)  # Matriz identidad para cambiar un elemento a la vez\n",
    "\n",
    "    for i in range(n):\n",
    "        for j in range(n):\n",
    "            x_ij = x + h * (I[i] + I[j])\n",
    "            x_i = x + h * I[i]\n",
    "            x_j = x + h * I[j]\n",
    "            \n",
    "            f_ij = f(x_ij)  # f(x + h_i + h_j)\n",
    "            f_i = f(x_i)  # f(x + h_i)\n",
    "            f_j = f(x_j)  # f(x + h_j)\n",
    "            f_0 = f(x)  # f(x)\n",
    "\n",
    "            H[i, j] = (f_ij - f_i - f_j + f_0) / (h**2)  # Segunda derivada cruzada\n",
    "\n",
    "    return 0.5*(H + H.T)\n",
    "\n",
    "def grad_f(x, f, h):\n",
    "    \"\"\"\n",
    "    Input:\n",
    "        f: Función.\n",
    "        x: Punto a evaluar (numpy array).\n",
    "        h: Espaciamiento para el cálculo del gradiente.\n",
    "        \n",
    "    Output:\n",
    "        grad: Valor del gradiente (numpy array).\n",
    "    \"\"\"\n",
    "    \n",
    "    # Inicializa el gradiente\n",
    "    grad = np.zeros(len(x))\n",
    "\n",
    "    # Itera sobre cada componente\n",
    "    for i in range(len(x)):\n",
    "        # Copia de x\n",
    "        x_i = np.copy(x)\n",
    "\n",
    "        # Se suma el espaciamiento solo en la i-esima componente\n",
    "        x_i[i] = x_i[i] + h\n",
    "        \n",
    "        # Se calcula la i-esima componente del gradiente\n",
    "        grad[i] = (f(x_i) - f(x)) / h\n",
    "    return grad"
   ]
  },
  {
   "cell_type": "markdown",
   "metadata": {},
   "source": [
    "#### Condicionar el hessiano"
   ]
  },
  {
   "cell_type": "code",
   "execution_count": 22,
   "metadata": {},
   "outputs": [],
   "source": [
    "def condicionar_hessiano(hessiano, w = 1e-6, lam = 1e-6, max_iter = 10):\n",
    "    \"\"\"\n",
    "    Asegura que el Hessiano sea definido positivo y bien condicionado\n",
    "    Input:\n",
    "        hessiano: Matriz Hessiana (numpy n x n)\n",
    "        w: Cota menor de min_e/max_e.\n",
    "        lambda: Minimum eigenvalue after adjustment (ensures positive definiteness).\n",
    "    Output:\n",
    "        Hessiano ajustado (numpy n x n)\n",
    "    \"\"\"\n",
    "    \n",
    "    n = hessiano.shape[0]\n",
    "    H = np.copy(hessiano)\n",
    "    \n",
    "    # Asegura definida positiva\n",
    "    eigenvals = np.linalg.eigvals(H)\n",
    "    min_e = np.min(eigenvals)\n",
    "    if min_e < lam:\n",
    "        # Añade lo suficiente para que su minimo valor propio sea lam\n",
    "        H += (lam - min_e) * np.eye(n)\n",
    "        eigenvals = np.linalg.eigvals(H)  # Actualiza eigenvalores\n",
    "    \n",
    "    # Asegura la condición min_e / max_e >= w\n",
    "    max_e = np.max(eigenvals)\n",
    "    if max_e < 1e-12:  # Avoid division by near-zero\n",
    "        max_e = 1e-12\n",
    "    min_e = np.min(eigenvals)\n",
    "    if min_e/ max_e < w:\n",
    "        # min_e >= w * max_e\n",
    "        objetivo_min_e = w * max_e\n",
    "        H += (objetivo_min_e - min_e) * np.eye(n)\n",
    "    \n",
    "    \n",
    "    return H"
   ]
  },
  {
   "cell_type": "markdown",
   "metadata": {},
   "source": [
    "#### Método de Newton con Hessiano Modificado"
   ]
  },
  {
   "cell_type": "code",
   "execution_count": 23,
   "metadata": {},
   "outputs": [],
   "source": [
    "def newton_hess_modificado(f, x, alfa, max_iter, epsilon, h):\n",
    "    \"\"\"\n",
    "    Input:\n",
    "        f: Función objetivo.\n",
    "        x: Punto inicial x_0.\n",
    "        alfa: Learning rate.\n",
    "        max_iter: Número máximo de iteraciones.\n",
    "        epsilon: Criterio de convergencia.\n",
    "        h: Espaciamiento para el cálculo del gradiente.\n",
    "        \n",
    "    Output:\n",
    "        x like: Punto solución aproximada.\n",
    "    \"\"\"\n",
    "    \n",
    "    x_k = np.copy(x)\n",
    "    convergencia = False\n",
    "    \n",
    "    for i in range(max_iter):\n",
    "        # Obtenemos p_k\n",
    "        hessiano = hess_f(x_k, f, h)\n",
    "        hessiano = condicionar_hessiano(hessiano)\n",
    "        grad = grad_f(x_k, f, h)\n",
    "        p_k = -np.linalg.solve(hessiano,grad)\n",
    "        \n",
    "        # Actualizamos la solución\n",
    "        x_k = x_k + alfa * p_k \n",
    "        \n",
    "        # Evalua la convergencia\n",
    "        convergencia = max(abs(p_k)) < epsilon\n",
    "        if convergencia:\n",
    "            print(f\"La función {f.__name__} converge en la iteracion: {i}\")\n",
    "            break\n",
    "\n",
    "    if not convergencia:\n",
    "        print(f\"No se cumplio la convergencia en {max_iter} iteraciones.\")\n",
    "\n",
    "    return x_k"
   ]
  },
  {
   "cell_type": "markdown",
   "metadata": {},
   "source": [
    "### **Resultados**"
   ]
  },
  {
   "cell_type": "markdown",
   "metadata": {},
   "source": [
    "#### Función Esfera"
   ]
  },
  {
   "cell_type": "code",
   "execution_count": 24,
   "metadata": {},
   "outputs": [
    {
     "name": "stdout",
     "output_type": "stream",
     "text": [
      "La función Esfera converge en la iteracion: 1\n",
      "Vector aprox: [-5.e-06 -5.e-06 -5.e-06 -5.e-06]\n",
      "Vector solución: [0. 0. 0. 0.]\n",
      "Magnitud del vector error: 1.0000000000000453e-05\n"
     ]
    }
   ],
   "source": [
    "n = 4\n",
    "x = np.array(n*[4], dtype=float)\n",
    "alfa = 1\n",
    "max_iter = 15_000\n",
    "epsilon = 10e-4\n",
    "h = 10e-6\n",
    "\n",
    "xsol = newton_hess_modificado(Esfera, x, alfa, max_iter, epsilon, h)\n",
    "\n",
    "# Comparación con resultado real\n",
    "solucion = np.array(n*[0], dtype=float)\n",
    "\n",
    "print(f\"Vector aprox: {xsol}\")\n",
    "print(f\"Vector solución: {solucion}\")\n",
    "print(f\"Magnitud del vector error: {np.linalg.norm(xsol - solucion)}\")"
   ]
  },
  {
   "cell_type": "markdown",
   "metadata": {},
   "source": [
    "#### Función de Rosenbrock"
   ]
  },
  {
   "cell_type": "code",
   "execution_count": 25,
   "metadata": {},
   "outputs": [
    {
     "name": "stdout",
     "output_type": "stream",
     "text": [
      "La función Rosenbrock converge en la iteracion: 10\n",
      "Vector aprox: [0.99899826 0.99800253 0.99601405 0.992039  ]\n",
      "Vector solución: [1. 1. 1. 1.]\n",
      "Magnitud del vector error: 0.009179253304168914\n"
     ]
    }
   ],
   "source": [
    "n = 4\n",
    "x = np.array(4*[2], dtype=float)\n",
    "alfa = 1\n",
    "max_iter = 15_000\n",
    "epsilon = 10e-4\n",
    "h = 10e-6\n",
    "\n",
    "xsol = newton_hess_modificado(Rosenbrock, x, alfa, max_iter, epsilon, h)\n",
    "\n",
    "# Comparación con resultado real\n",
    "solucion = np.array(n*[1], dtype=float)\n",
    "\n",
    "print(f\"Vector aprox: {xsol}\")\n",
    "print(f\"Vector solución: {solucion}\")\n",
    "print(f\"Magnitud del vector error: {np.linalg.norm(xsol - solucion)}\")"
   ]
  },
  {
   "cell_type": "markdown",
   "metadata": {},
   "source": [
    "#### Función de Beale"
   ]
  },
  {
   "cell_type": "code",
   "execution_count": 26,
   "metadata": {},
   "outputs": [
    {
     "name": "stderr",
     "output_type": "stream",
     "text": [
      "C:\\Users\\Gus\\AppData\\Local\\Temp\\ipykernel_26088\\876322960.py:27: RuntimeWarning: overflow encountered in scalar power\n",
      "  + (2.625 - x1 + x1 * x2**3) ** 2\n",
      "C:\\Users\\Gus\\AppData\\Local\\Temp\\ipykernel_26088\\3658465514.py:28: RuntimeWarning: invalid value encountered in scalar subtract\n",
      "  H[i, j] = (f_ij - f_i - f_j + f_0) / (h**2)  # Segunda derivada cruzada\n"
     ]
    },
    {
     "ename": "LinAlgError",
     "evalue": "Array must not contain infs or NaNs",
     "output_type": "error",
     "traceback": [
      "\u001b[1;31m---------------------------------------------------------------------------\u001b[0m",
      "\u001b[1;31mLinAlgError\u001b[0m                               Traceback (most recent call last)",
      "Cell \u001b[1;32mIn[26], line 7\u001b[0m\n\u001b[0;32m      4\u001b[0m epsilon \u001b[38;5;241m=\u001b[39m \u001b[38;5;241m10e-4\u001b[39m\n\u001b[0;32m      5\u001b[0m h \u001b[38;5;241m=\u001b[39m \u001b[38;5;241m10e-6\u001b[39m\n\u001b[1;32m----> 7\u001b[0m xsol \u001b[38;5;241m=\u001b[39m newton_hess_modificado(Beale, x, alfa, max_iter, epsilon, h)\n\u001b[0;32m      9\u001b[0m \u001b[38;5;66;03m# Comparación con resultado real\u001b[39;00m\n\u001b[0;32m     10\u001b[0m solucion \u001b[38;5;241m=\u001b[39m np\u001b[38;5;241m.\u001b[39marray([\u001b[38;5;241m3\u001b[39m, \u001b[38;5;241m0.5\u001b[39m], dtype\u001b[38;5;241m=\u001b[39m\u001b[38;5;28mfloat\u001b[39m)\n",
      "Cell \u001b[1;32mIn[23], line 21\u001b[0m, in \u001b[0;36mnewton_hess_modificado\u001b[1;34m(f, x, alfa, max_iter, epsilon, h)\u001b[0m\n\u001b[0;32m     18\u001b[0m \u001b[38;5;28;01mfor\u001b[39;00m i \u001b[38;5;129;01min\u001b[39;00m \u001b[38;5;28mrange\u001b[39m(max_iter):\n\u001b[0;32m     19\u001b[0m     \u001b[38;5;66;03m# Obtenemos p_k\u001b[39;00m\n\u001b[0;32m     20\u001b[0m     hessiano \u001b[38;5;241m=\u001b[39m hess_f(x_k, f, h)\n\u001b[1;32m---> 21\u001b[0m     hessiano \u001b[38;5;241m=\u001b[39m condicionar_hessiano(hessiano)\n\u001b[0;32m     22\u001b[0m     grad \u001b[38;5;241m=\u001b[39m grad_f(x_k, f, h)\n\u001b[0;32m     23\u001b[0m     p_k \u001b[38;5;241m=\u001b[39m \u001b[38;5;241m-\u001b[39mnp\u001b[38;5;241m.\u001b[39mlinalg\u001b[38;5;241m.\u001b[39msolve(hessiano,grad)\n",
      "Cell \u001b[1;32mIn[22], line 16\u001b[0m, in \u001b[0;36mcondicionar_hessiano\u001b[1;34m(hessiano, w, lam, max_iter)\u001b[0m\n\u001b[0;32m     13\u001b[0m H \u001b[38;5;241m=\u001b[39m np\u001b[38;5;241m.\u001b[39mcopy(hessiano)\n\u001b[0;32m     15\u001b[0m \u001b[38;5;66;03m# Asegura definida positiva\u001b[39;00m\n\u001b[1;32m---> 16\u001b[0m eigenvals \u001b[38;5;241m=\u001b[39m np\u001b[38;5;241m.\u001b[39mlinalg\u001b[38;5;241m.\u001b[39meigvals(H)\n\u001b[0;32m     17\u001b[0m min_e \u001b[38;5;241m=\u001b[39m np\u001b[38;5;241m.\u001b[39mmin(eigenvals)\n\u001b[0;32m     18\u001b[0m \u001b[38;5;28;01mif\u001b[39;00m min_e \u001b[38;5;241m<\u001b[39m lam:\n\u001b[0;32m     19\u001b[0m     \u001b[38;5;66;03m# Añade lo suficiente para que su minimo valor propio sea lam\u001b[39;00m\n",
      "File \u001b[1;32mc:\\Users\\Gus\\miniconda3\\Lib\\site-packages\\numpy\\linalg\\linalg.py:1068\u001b[0m, in \u001b[0;36meigvals\u001b[1;34m(a)\u001b[0m\n\u001b[0;32m   1066\u001b[0m _assert_stacked_2d(a)\n\u001b[0;32m   1067\u001b[0m _assert_stacked_square(a)\n\u001b[1;32m-> 1068\u001b[0m _assert_finite(a)\n\u001b[0;32m   1069\u001b[0m t, result_t \u001b[38;5;241m=\u001b[39m _commonType(a)\n\u001b[0;32m   1071\u001b[0m extobj \u001b[38;5;241m=\u001b[39m get_linalg_error_extobj(\n\u001b[0;32m   1072\u001b[0m     _raise_linalgerror_eigenvalues_nonconvergence)\n",
      "File \u001b[1;32mc:\\Users\\Gus\\miniconda3\\Lib\\site-packages\\numpy\\linalg\\linalg.py:218\u001b[0m, in \u001b[0;36m_assert_finite\u001b[1;34m(*arrays)\u001b[0m\n\u001b[0;32m    216\u001b[0m \u001b[38;5;28;01mfor\u001b[39;00m a \u001b[38;5;129;01min\u001b[39;00m arrays:\n\u001b[0;32m    217\u001b[0m     \u001b[38;5;28;01mif\u001b[39;00m \u001b[38;5;129;01mnot\u001b[39;00m isfinite(a)\u001b[38;5;241m.\u001b[39mall():\n\u001b[1;32m--> 218\u001b[0m         \u001b[38;5;28;01mraise\u001b[39;00m LinAlgError(\u001b[38;5;124m\"\u001b[39m\u001b[38;5;124mArray must not contain infs or NaNs\u001b[39m\u001b[38;5;124m\"\u001b[39m)\n",
      "\u001b[1;31mLinAlgError\u001b[0m: Array must not contain infs or NaNs"
     ]
    }
   ],
   "source": [
    "x = np.array([1,1], dtype=float)\n",
    "alfa = 0.05\n",
    "max_iter = 15_000\n",
    "epsilon = 10e-4\n",
    "h = 10e-6\n",
    "\n",
    "xsol = newton_hess_modificado(Beale, x, alfa, max_iter, epsilon, h)\n",
    "\n",
    "# Comparación con resultado real\n",
    "solucion = np.array([3, 0.5], dtype=float)\n",
    "\n",
    "print(f\"Vector aprox: {xsol}\")\n",
    "print(f\"Vector solución: {solucion}\")\n",
    "print(f\"Magnitud del vector error: {np.linalg.norm(xsol - solucion)}\")"
   ]
  },
  {
   "cell_type": "code",
   "execution_count": null,
   "metadata": {},
   "outputs": [],
   "source": []
  }
 ],
 "metadata": {
  "kernelspec": {
   "display_name": "base",
   "language": "python",
   "name": "python3"
  },
  "language_info": {
   "codemirror_mode": {
    "name": "ipython",
    "version": 3
   },
   "file_extension": ".py",
   "mimetype": "text/x-python",
   "name": "python",
   "nbconvert_exporter": "python",
   "pygments_lexer": "ipython3",
   "version": "3.12.8"
  }
 },
 "nbformat": 4,
 "nbformat_minor": 2
}
