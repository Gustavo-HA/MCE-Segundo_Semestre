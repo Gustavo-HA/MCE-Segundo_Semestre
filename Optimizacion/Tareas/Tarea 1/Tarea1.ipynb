{
 "cells": [
  {
   "cell_type": "markdown",
   "metadata": {},
   "source": [
    "## Realizar el Descenso de Gradiente en Python\n",
    "\n",
    "* Se utilizarán funciones $f(\\textrm{X})$ definidas.  \n",
    "* Se calculará el gradiente $\\nabla{f(X_k)}$ de forma numérica.  "
   ]
  },
  {
   "cell_type": "code",
   "execution_count": 1,
   "metadata": {},
   "outputs": [],
   "source": [
    "import numpy as np"
   ]
  },
  {
   "cell_type": "markdown",
   "metadata": {},
   "source": [
    "#### Definimos las funciones de prueba"
   ]
  },
  {
   "cell_type": "code",
   "execution_count": 2,
   "metadata": {},
   "outputs": [],
   "source": [
    "def Esfera(x):\n",
    "    \"\"\"\n",
    "    f(x) = \\\\sum x_i^2\n",
    "    \"\"\"\n",
    "    \n",
    "    return np.sum(x**2)\n",
    "\n",
    "\n",
    "def Rosenbrock(x):\n",
    "    terminos = [\n",
    "        100 * (x[i + 1] - x[i] ** 2) ** 2 + (1 - x[i]) ** 2\n",
    "        for i in range(len(x) - 1)\n",
    "    ]\n",
    "    terminos = np.array(terminos)\n",
    "    return np.sum(terminos)\n",
    "\n",
    "\n",
    "def Beale(x):\n",
    "    assert len(x) == 2, f\"La función Beale es de dos variables, se introdujeron {len(x)}.\"\n",
    "    (x1, x2) = x\n",
    "    return (\n",
    "        (1.5 - x1 + x1 * x2) ** 2\n",
    "        + (2.25 - x1 + x1 * x2**2) ** 2\n",
    "        + (2.625 - x1 + x1 * x2**3) ** 2\n",
    "    )"
   ]
  },
  {
   "cell_type": "markdown",
   "metadata": {},
   "source": [
    "#### Cálculo numérico del gradiente"
   ]
  },
  {
   "cell_type": "code",
   "execution_count": 3,
   "metadata": {},
   "outputs": [],
   "source": [
    "def grad_f(x, f, h):\n",
    "    \"\"\"\n",
    "    Input:\n",
    "        f: Función.\n",
    "        x: Punto a evaluar.\n",
    "        h: Espaciamiento para el cálculo del gradiente.\n",
    "        \n",
    "    Output:\n",
    "        grad: Valor del gradiente.\n",
    "    \"\"\"\n",
    "    \n",
    "    # Inicializa el gradiente\n",
    "    grad = np.zeros(len(x))\n",
    "\n",
    "    # Itera sobre cada componente\n",
    "    for i in range(len(x)):\n",
    "        # Copia de x\n",
    "        x_i = np.copy(x)\n",
    "\n",
    "        # Se suma el espaciamiento solo en la i-esima componente\n",
    "        x_i[i] = x_i[i] + h\n",
    "        \n",
    "        # Se calcula la i-esima componente del gradiente\n",
    "        grad[i] = (f(x_i) - f(x)) / h\n",
    "    return grad"
   ]
  },
  {
   "cell_type": "markdown",
   "metadata": {},
   "source": [
    "##### Descenso del gradiente"
   ]
  },
  {
   "cell_type": "code",
   "execution_count": 4,
   "metadata": {},
   "outputs": [],
   "source": [
    "def descenso_gradiente(f, x, alfa, max_iter, epsilon, h):\n",
    "    \"\"\"\n",
    "    Input:\n",
    "        f: Función objetivo.\n",
    "        x: Punto inicial x_0.\n",
    "        alfa: Learning rate.\n",
    "        max_iter: Número máximo de iteraciones.\n",
    "        epsilon: Criterio de convergencia.\n",
    "        h: Espaciamiento para el cálculo del gradiente.\n",
    "        \n",
    "    Output:\n",
    "        x like: Punto solución aproximada.\n",
    "    \"\"\"\n",
    "    \n",
    "    \n",
    "    # Inicializacion\n",
    "    x_k = np.copy(x)\n",
    "    convergencia = False\n",
    "\n",
    "    for i in range(max_iter):\n",
    "        # Actualiza la solucion\n",
    "        p_k = -grad_f(x_k, f, h)\n",
    "        x_k = x_k + alfa * p_k \n",
    "        \n",
    "        # Evalua la convergencia\n",
    "        convergencia = max(abs(p_k)) < epsilon\n",
    "        if convergencia:\n",
    "            print(f\"La función {f.__name__} converge en la iteracion: {i}\")\n",
    "            break\n",
    "\n",
    "    if not convergencia:\n",
    "        print(f\"No se cumplio la convergencia en {max_iter} iteraciones.\")\n",
    "\n",
    "    return x_k"
   ]
  },
  {
   "cell_type": "markdown",
   "metadata": {},
   "source": [
    "#### Probando la función Esfera."
   ]
  },
  {
   "cell_type": "code",
   "execution_count": 9,
   "metadata": {},
   "outputs": [
    {
     "name": "stdout",
     "output_type": "stream",
     "text": [
      "La función Esfera converge en la iteracion: 41\n",
      "Magnitud del vector error: 0.0006705655845385165\n"
     ]
    }
   ],
   "source": [
    "n = 4\n",
    "x = np.array(n*[4], dtype=float)\n",
    "alfa = 0.1\n",
    "max_iter = 15_000\n",
    "epsilon = 10e-4\n",
    "h = 10e-6\n",
    "\n",
    "xsol = descenso_gradiente(Esfera, x, alfa, max_iter, epsilon, h)\n",
    "\n",
    "# Comparación con resultado real\n",
    "solucion = np.array(n*[0], dtype=float)\n",
    "\n",
    "print(f\"Magnitud del vector error: {np.linalg.norm(xsol - solucion)}\")"
   ]
  },
  {
   "cell_type": "markdown",
   "metadata": {},
   "source": [
    "#### Probando la función Rosenbrock."
   ]
  },
  {
   "cell_type": "code",
   "execution_count": 6,
   "metadata": {},
   "outputs": [
    {
     "name": "stdout",
     "output_type": "stream",
     "text": [
      "La función Rosenbrock converge en la iteracion: 12143\n",
      "Magnitud del vector error: 0.0068657639510175585\n"
     ]
    }
   ],
   "source": [
    "n = 4\n",
    "x = np.array(4*[2], dtype=float)\n",
    "alfa = 0.001\n",
    "max_iter = 15_000\n",
    "epsilon = 10e-4\n",
    "h = 10e-6\n",
    "\n",
    "xsol = descenso_gradiente(Rosenbrock, x, alfa, max_iter, epsilon, h)\n",
    "\n",
    "# Comparación con resultado real\n",
    "solucion = np.array(n*[1], dtype=float)\n",
    "\n",
    "print(f\"Magnitud del vector error: {np.linalg.norm(xsol - solucion)}\")"
   ]
  },
  {
   "cell_type": "markdown",
   "metadata": {},
   "source": [
    "#### Probando la función Beale"
   ]
  },
  {
   "cell_type": "code",
   "execution_count": 8,
   "metadata": {},
   "outputs": [
    {
     "name": "stdout",
     "output_type": "stream",
     "text": [
      "No se cumplio la convergencia en 15000 iteraciones.\n",
      "Magnitud del vector error: 0.0039409225854905704\n"
     ]
    }
   ],
   "source": [
    "x = np.array([2, 2], dtype=float)\n",
    "alfa = 0.001\n",
    "max_iter = 15_000\n",
    "epsilon = 10e-4\n",
    "h = 10e-6\n",
    "\n",
    "xsol = descenso_gradiente(Beale, x, alfa, max_iter, epsilon, h)\n",
    "\n",
    "# Comparación con resultado real\n",
    "solucion = np.array([3, 0.5], dtype=float)\n",
    "\n",
    "print(f\"Magnitud del vector error: {np.linalg.norm(xsol - solucion)}\")"
   ]
  },
  {
   "cell_type": "code",
   "execution_count": null,
   "metadata": {},
   "outputs": [],
   "source": []
  }
 ],
 "metadata": {
  "kernelspec": {
   "display_name": "base",
   "language": "python",
   "name": "python3"
  },
  "language_info": {
   "codemirror_mode": {
    "name": "ipython",
    "version": 3
   },
   "file_extension": ".py",
   "mimetype": "text/x-python",
   "name": "python",
   "nbconvert_exporter": "python",
   "pygments_lexer": "ipython3",
   "version": "3.12.8"
  }
 },
 "nbformat": 4,
 "nbformat_minor": 2
}
