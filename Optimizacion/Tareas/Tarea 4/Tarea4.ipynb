{
 "cells": [
  {
   "cell_type": "markdown",
   "metadata": {},
   "source": [
    "# Tarea 4 - Optimización\n",
    "### Gradiente Conjugado Lineal y Gradiente Conjugado No Lineal.\n",
    "#### Por: Gustavo Hernández Angeles\n"
   ]
  },
  {
   "cell_type": "markdown",
   "metadata": {},
   "source": [
    "## **Preparación**"
   ]
  },
  {
   "cell_type": "code",
   "execution_count": 14,
   "metadata": {},
   "outputs": [],
   "source": [
    "import numpy as np\n",
    "from time import perf_counter\n",
    "np.random.seed(42)\n",
    "np.set_printoptions(precision=4)"
   ]
  },
  {
   "cell_type": "markdown",
   "metadata": {},
   "source": [
    "## **Gradiente Conjugado Lineal**"
   ]
  },
  {
   "cell_type": "markdown",
   "metadata": {},
   "source": [
    "### **Funciones de utilidad**"
   ]
  },
  {
   "cell_type": "markdown",
   "metadata": {},
   "source": [
    "Generamos la matriz $\\vec{A}$ de tamaño NxN simétricas y definidas positivas.  \n",
    "Generamos el vector $\\vec{b}$ de tamaño Nx1."
   ]
  },
  {
   "cell_type": "code",
   "execution_count": 15,
   "metadata": {},
   "outputs": [],
   "source": [
    "from math import log\n",
    "def generar_MatrizVector(n):\n",
    "    todos_positivos = False\n",
    "    while not todos_positivos:\n",
    "        A = np.random.rand(n,n) + (3*log(n))*np.eye(n)\n",
    "        A = 0.5*(A + A.T) # Simétrica\n",
    "        eigenvalores = np.linalg.eigvals(A)\n",
    "        todos_positivos = eigenvalores.min() > 0 # Positiva definida\n",
    "    return A, np.random.rand(n,1)"
   ]
  },
  {
   "cell_type": "markdown",
   "metadata": {},
   "source": [
    "#### Gradiente Conjugado Lineal"
   ]
  },
  {
   "cell_type": "code",
   "execution_count": 16,
   "metadata": {},
   "outputs": [],
   "source": [
    "def gc_lineal(A, b, x_0, epsilon, max_iter):\n",
    "    x_k = x_0.copy()\n",
    "    r_k = A.dot(x_0) - b\n",
    "    p_k = -r_k\n",
    "\n",
    "    for i in range(max_iter):\n",
    "        alfa_k = - (r_k.T.dot(p_k)) / (p_k.T.dot(A).dot(p_k))\n",
    "        x_k = x_k + alfa_k*p_k\n",
    "        r_k = A.dot(x_k) - b\n",
    "        beta_k = r_k.T.dot(A).dot(p_k) / p_k.T.dot(A).dot(p_k)\n",
    "        p_k = -r_k + beta_k*p_k\n",
    "        \n",
    "        # Evalua la convergencia\n",
    "        convergencia = max(abs(r_k)) < epsilon\n",
    "        if convergencia:\n",
    "            print(f\"El método converge en la iteracion: {i+1}.\")\n",
    "            break\n",
    "    \n",
    "    if not convergencia:\n",
    "        print(f\"El método no converge en {max_iter} iteraciones.\")\n",
    "    \n",
    "    return x_k"
   ]
  },
  {
   "cell_type": "markdown",
   "metadata": {},
   "source": [
    "### **Benchmark**"
   ]
  },
  {
   "cell_type": "markdown",
   "metadata": {},
   "source": [
    "#### Pruebas"
   ]
  },
  {
   "cell_type": "code",
   "execution_count": 98,
   "metadata": {},
   "outputs": [
    {
     "name": "stdout",
     "output_type": "stream",
     "text": [
      "El método converge en la iteracion: 4.\n",
      "Solucion real:\n",
      " [0.0036 0.0701 0.0632 0.1232 0.1397 0.0274]\n",
      "Solución aprox:\n",
      " [0.0036 0.0701 0.0632 0.1232 0.1397 0.0274]\n"
     ]
    }
   ],
   "source": [
    "n = 6\n",
    "A, b = generar_MatrizVector(n)\n",
    "x_0 = np.random.rand(n,1)\n",
    "epsilon = 1e-4\n",
    "max_iter= n\n",
    "\n",
    "x_sol = gc_lineal(A, b, x_0, epsilon,max_iter)\n",
    "\n",
    "print(f\"Solucion real:\\n\",np.linalg.solve(A,b).reshape(1,-1)[0])\n",
    "print(f\"Solución aprox:\\n\",x_sol.reshape(1,-1)[0])"
   ]
  },
  {
   "cell_type": "markdown",
   "metadata": {},
   "source": [
    "## **Gradiente Conjugado No Lineal (Fletcher-Reeves)**"
   ]
  },
  {
   "cell_type": "markdown",
   "metadata": {},
   "source": [
    "### **Funciones de utilidad**"
   ]
  },
  {
   "cell_type": "markdown",
   "metadata": {},
   "source": [
    "#### Definimos funciones de prueba.\n",
    "* Esfera\n",
    "* Rosenbrock\n",
    "* Beale"
   ]
  },
  {
   "cell_type": "code",
   "execution_count": 19,
   "metadata": {},
   "outputs": [],
   "source": [
    "def Esfera(x):\n",
    "    \"\"\"\n",
    "    f(x) = \\\\sum x_i^2\n",
    "    \"\"\"\n",
    "    \n",
    "    return np.sum(x**2)\n",
    "\n",
    "\n",
    "def Rosenbrock(x):\n",
    "    terminos = [\n",
    "        100 * (x[i + 1] - x[i] ** 2) ** 2 + (1 - x[i]) ** 2\n",
    "        for i in range(len(x) - 1)\n",
    "    ]\n",
    "    terminos = np.array(terminos)\n",
    "    return np.sum(terminos)\n",
    "\n",
    "\n",
    "def Beale(x):\n",
    "    assert len(x) == 2, f\"La función Beale es de dos variables, se introdujeron {len(x)}.\"\n",
    "    (x1, x2) = x\n",
    "    return (\n",
    "        (1.5 - x1 + x1 * x2) ** 2\n",
    "        + (2.25 - x1 + x1 * x2**2) ** 2\n",
    "        + (2.625 - x1 + x1 * x2**3) ** 2\n",
    "    )"
   ]
  },
  {
   "cell_type": "markdown",
   "metadata": {},
   "source": [
    "#### Recuperamos el algoritmo de Backtracking de la tarea 2."
   ]
  },
  {
   "cell_type": "code",
   "execution_count": 20,
   "metadata": {},
   "outputs": [],
   "source": [
    "def backtracking(f, gradiente, x, p, alfa, h, rho = 0.5, c_1 = 10e-4, max_iter = 50):\n",
    "    for i in range(max_iter):\n",
    "        if f(x+p*alfa) <= f(x) + c_1 * alfa * np.dot(p, gradiente):\n",
    "            return alfa\n",
    "        alfa = alfa*rho\n",
    "                \n",
    "    print(f\"No se cumplió la condición con {max_iter} iteraciones.\")\n",
    "    return alfa"
   ]
  },
  {
   "cell_type": "markdown",
   "metadata": {},
   "source": [
    "#### Calculo de gradiente"
   ]
  },
  {
   "cell_type": "code",
   "execution_count": 21,
   "metadata": {},
   "outputs": [],
   "source": [
    "def grad_f(x, f, h):\n",
    "    \"\"\"\n",
    "    Input:\n",
    "        f: Función.\n",
    "        x: Punto a evaluar (numpy array).\n",
    "        h: Espaciamiento para el cálculo del gradiente.\n",
    "        \n",
    "    Output:\n",
    "        grad: Valor del gradiente (numpy array).\n",
    "    \"\"\"\n",
    "    \n",
    "    # Inicializa el gradiente\n",
    "    grad = np.zeros(len(x))\n",
    "\n",
    "    # Itera sobre cada componente\n",
    "    for i in range(len(x)):\n",
    "        # Copia de x\n",
    "        x_i = np.copy(x)\n",
    "\n",
    "        # Se suma el espaciamiento solo en la i-esima componente\n",
    "        x_i[i] = x_i[i] + h\n",
    "        \n",
    "        # Se calcula la i-esima componente del gradiente\n",
    "        grad[i] = (f(x_i) - f(x)) / h\n",
    "    return grad"
   ]
  },
  {
   "cell_type": "markdown",
   "metadata": {},
   "source": [
    "#### GC No Lineal (Fletcher-Reeves)"
   ]
  },
  {
   "cell_type": "code",
   "execution_count": 105,
   "metadata": {},
   "outputs": [],
   "source": [
    "def gc_nolineal(f, x, max_iter, epsilon, h):\n",
    "    x_k = x.copy()\n",
    "    grad = grad_f(x, f, h)\n",
    "    p_k = -grad\n",
    "    alfa_k = 1\n",
    "    \n",
    "    for i in range(max_iter):\n",
    "        alfa_k = backtracking(f,grad,x_k,p_k,alfa_k,h)\n",
    "        x_k += alfa_k * p_k\n",
    "        grad_1 = grad_f(x_k, f, h)\n",
    "        beta_k = (grad_1.T.dot(grad_1)) / (p_k.T.dot(p_k))\n",
    "        p_k = -grad_1 + beta_k*p_k\n",
    "    \n",
    "        # Evalua la convergencia\n",
    "        convergencia = max(abs(p_k)) < epsilon\n",
    "        if convergencia:\n",
    "            print(f\"La función {f.__name__} converge en la iteracion: {i+1}\")\n",
    "            break\n",
    "    \n",
    "    if not convergencia:\n",
    "        print(f\"No se cumplio la convergencia en {max_iter} iteraciones.\")\n",
    "\n",
    "    return x_k"
   ]
  },
  {
   "cell_type": "markdown",
   "metadata": {},
   "source": [
    "### **Benchmark**"
   ]
  },
  {
   "cell_type": "markdown",
   "metadata": {},
   "source": [
    "#### Función Esfera"
   ]
  },
  {
   "cell_type": "code",
   "execution_count": 106,
   "metadata": {},
   "outputs": [
    {
     "name": "stdout",
     "output_type": "stream",
     "text": [
      "La función Esfera converge en la iteracion: 1\n",
      "Tiempo de ejecución: 0.94080 ms\n",
      "Magnitud del vector error: 9.99987560135196e-06\n",
      "Solución encontrada: [-4.9999e-06 -4.9999e-06 -4.9999e-06 -4.9999e-06]\n"
     ]
    }
   ],
   "source": [
    "n = 4\n",
    "x = np.array(n*[4], dtype=float)\n",
    "alfa = 1\n",
    "max_iter = 15_000\n",
    "epsilon = 10e-6\n",
    "h = 10e-6\n",
    "\n",
    "inicio = perf_counter()\n",
    "xsol = gc_nolineal(Esfera, x, max_iter, epsilon, h)\n",
    "final = perf_counter()\n",
    "\n",
    "# Comparación con resultado real\n",
    "solucion = np.array(n*[0], dtype=float)\n",
    "\n",
    "print(f\"Tiempo de ejecución: {(final-inicio) * 1e3:.5f} ms\")\n",
    "print(f\"Magnitud del vector error: {np.linalg.norm(xsol - solucion)}\")\n",
    "print(f\"Solución encontrada: {xsol}\")\n",
    "\n"
   ]
  },
  {
   "cell_type": "markdown",
   "metadata": {},
   "source": [
    "#### Función de Rosenbrock"
   ]
  },
  {
   "cell_type": "code",
   "execution_count": 107,
   "metadata": {},
   "outputs": [
    {
     "name": "stdout",
     "output_type": "stream",
     "text": [
      "La función Rosenbrock converge en la iteracion: 14371\n",
      "Tiempo de ejecución: 5633.99320 ms\n",
      "Magnitud del vector error: 0.010313116556118223\n",
      "Solución encontrada: [1.     0.9999 0.9998 0.9997 0.9994 0.9989 0.9978 0.9955 0.9911]\n"
     ]
    }
   ],
   "source": [
    "n = 9\n",
    "x = np.array(n*[2.5], dtype=float)\n",
    "alfa = 1\n",
    "max_iter = 15_000\n",
    "epsilon = 10e-6\n",
    "h = 10e-6\n",
    "\n",
    "inicio = perf_counter()\n",
    "xsol = gc_nolineal(Rosenbrock, x, max_iter, epsilon, h)\n",
    "final = perf_counter()\n",
    "\n",
    "\n",
    "# Comparación con resultado real\n",
    "solucion = np.array(n*[1], dtype=float)\n",
    "\n",
    "print(f\"Tiempo de ejecución: {(final-inicio) * 1e3:.5f} ms\")\n",
    "print(f\"Magnitud del vector error: {np.linalg.norm(xsol - solucion)}\")\n",
    "print(f\"Solución encontrada: {xsol}\")"
   ]
  },
  {
   "cell_type": "markdown",
   "metadata": {},
   "source": [
    "#### Función de Beale\n"
   ]
  },
  {
   "cell_type": "code",
   "execution_count": 108,
   "metadata": {},
   "outputs": [
    {
     "name": "stdout",
     "output_type": "stream",
     "text": [
      "La función Beale converge en la iteracion: 5171\n",
      "Tiempo de ejecución: 321.45980 ms\n",
      "Magnitud del vector error: 0.000257087253322964\n",
      "Solución encontrada: [2.9998 0.4999]\n"
     ]
    }
   ],
   "source": [
    "x = np.array([2,2], dtype=float)\n",
    "alfa = 1\n",
    "max_iter = 15_000\n",
    "epsilon = 10e-6\n",
    "h = 10e-6\n",
    "\n",
    "inicio = perf_counter()\n",
    "xsol = gc_nolineal(Beale, x, max_iter, epsilon, h)\n",
    "final = perf_counter()\n",
    "\n",
    "\n",
    "\n",
    "# Comparación con resultado real\n",
    "solucion = np.array([3, 0.5], dtype=float)\n",
    "\n",
    "print(f\"Tiempo de ejecución: {(final-inicio) * 1e3:.5f} ms\")\n",
    "print(f\"Magnitud del vector error: {np.linalg.norm(xsol - solucion)}\")\n",
    "print(f\"Solución encontrada: {xsol}\")"
   ]
  }
 ],
 "metadata": {
  "kernelspec": {
   "display_name": "base",
   "language": "python",
   "name": "python3"
  },
  "language_info": {
   "codemirror_mode": {
    "name": "ipython",
    "version": 3
   },
   "file_extension": ".py",
   "mimetype": "text/x-python",
   "name": "python",
   "nbconvert_exporter": "python",
   "pygments_lexer": "ipython3",
   "version": "3.12.3"
  }
 },
 "nbformat": 4,
 "nbformat_minor": 2
}
